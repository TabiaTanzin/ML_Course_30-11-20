{
 "cells": [
  {
   "cell_type": "markdown",
   "metadata": {},
   "source": [
    "<h2>Your Name</h2>\n",
    "<h2>Email</h2>\n",
    "<h4>Deadline: 08/12/2020 9:00 GMT + 3</h4>"
   ]
  },
  {
   "cell_type": "markdown",
   "metadata": {},
   "source": [
    "## Homework\n",
    "\n",
    "* Import Boston Dataset from Sklearn Dataset class\n",
    "* Explore and analyse raw data.\n",
    "* Do preprocessing for regression quest.\n",
    "* Split your dataset into train and test test (0.7 for train and 0.3 for test).\n",
    "* Build Ridge Regression model with at least 5 different alpha value. (Use GridSearchCV to tune your model)\n",
    "* Is there any overfitting and underfitting?\n",
    "* Evaluate your result. "
   ]
  }
 ],
 "metadata": {
  "kernelspec": {
   "display_name": "Python 3",
   "language": "python",
   "name": "python3"
  },
  "language_info": {
   "codemirror_mode": {
    "name": "ipython",
    "version": 3
   },
   "file_extension": ".py",
   "mimetype": "text/x-python",
   "name": "python",
   "nbconvert_exporter": "python",
   "pygments_lexer": "ipython3",
   "version": "3.7.3"
  }
 },
 "nbformat": 4,
 "nbformat_minor": 4
}
